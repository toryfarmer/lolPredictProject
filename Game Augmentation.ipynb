{
 "cells": [
  {
   "cell_type": "code",
   "execution_count": 1,
   "metadata": {},
   "outputs": [],
   "source": [
    "import pandas as pd\n",
    "from riotwatcher import LolWatcher, ApiError\n",
    "import random\n",
    "import math\n",
    "import numpy as np\n",
    "\n",
    "# golbal variables\n",
    "# Go here to get an API key: https://developer.riotgames.com/\n",
    "api_key = 'RGAPI-b89d4d35-a3c4-431d-8c57-c79e65ea9fca'\n",
    "watcher = LolWatcher(api_key)\n",
    "my_region = 'na1'"
   ]
  },
  {
   "cell_type": "code",
   "execution_count": 2,
   "metadata": {},
   "outputs": [],
   "source": [
    "import xlwt\n",
    "from xlwt import Workbook\n",
    "import pandas as pd\n",
    "import time\n",
    "\n",
    "df = pd.read_excel(\"/Users/Tory/Documents/Documents - MacBook Pro (4)/Loldata.xlsx\")"
   ]
  },
  {
   "cell_type": "code",
   "execution_count": null,
   "metadata": {},
   "outputs": [],
   "source": [
    "netApiCalls = 0\n",
    "for i in range(934,len(df)):#934\n",
    "    if True:\n",
    "        df = pd.read_excel(\"/Users/Tory/Documents/Documents - MacBook Pro (4)/Loldata.xlsx\")\n",
    "        matchId = df['match'][i]\n",
    "        matchWin = df['win'][i]\n",
    "        match_detail = watcher.match.by_id('americas', matchId)\n",
    "        team1 = []\n",
    "        team2 = []\n",
    "        for row in match_detail['info']['participants']:\n",
    "            champ = row['championName']\n",
    "            player = row['puuid']\n",
    "            if row['win'] == matchWin:\n",
    "                team1.append((champ,player,matchId))\n",
    "            else:\n",
    "                team2.append((champ,player,matchId))\n",
    "        bothT = [team1,team2]\n",
    "        #print(bothT)\n",
    "        df.at[i,'champs']=bothT\n",
    "        df.to_excel(\"/Users/Tory/Documents/Documents - MacBook Pro (4)/Loldata.xlsx\",index=False)\n",
    "        netApiCalls = netApiCalls + 1\n",
    "        if netApiCalls > 89:\n",
    "            netApiCalls = 0\n",
    "            time.sleep(120)\n",
    "            print(i,\"sleeping...\")"
   ]
  },
  {
   "cell_type": "code",
   "execution_count": null,
   "metadata": {},
   "outputs": [],
   "source": []
  },
  {
   "cell_type": "code",
   "execution_count": null,
   "metadata": {},
   "outputs": [
    {
     "name": "stdout",
     "output_type": "stream",
     "text": [
      "Yone NA1_4272110313\n",
      "[[0, 0, 0, 0]]\n",
      "Mordekaiser NA1_4272110313\n",
      "[[0, 0, 0, 0], [8, 10, 0, 4]]\n",
      "Ahri NA1_4272110313\n",
      "[[0, 0, 0, 0], [8, 10, 0, 4], [0, 0, 0, 0]]\n",
      "Twitch NA1_4272110313\n",
      "[[0, 0, 0, 0], [8, 10, 0, 4], [0, 0, 0, 0], [3, 0, 15, 6]]\n",
      "Renata NA1_4272110313\n",
      "[[0, 0, 0, 0], [8, 10, 0, 4], [0, 0, 0, 0], [3, 0, 15, 6], [0, 0, 0, 0]]\n",
      "Irelia NA1_4272110313\n",
      "RekSai NA1_4272110313\n",
      "sleepy...\n",
      "MissFortune NA1_4272110313\n",
      "Jinx NA1_4272110313\n",
      "Nami NA1_4272110313\n",
      "942\n",
      "Singed NA1_4272285781\n",
      "sleepy...\n",
      "[[13, 5, 2, 3]]\n",
      "LeeSin NA1_4272285781\n",
      "[[13, 5, 2, 3], [0, 1, 5, 4]]\n",
      "Zoe NA1_4272285781\n",
      "[[13, 5, 2, 3], [0, 1, 5, 4], [0, 0, 0, 0]]\n",
      "Jhin NA1_4272285781\n",
      "sleepy...\n"
     ]
    }
   ],
   "source": [
    "netApiCalls = 0\n",
    "\n",
    "def incAPI(inc):\n",
    "    global netApiCalls\n",
    "    netApiCalls = netApiCalls + inc\n",
    "    if netApiCalls > 90:\n",
    "        netApiCalls = 0\n",
    "        print(\"sleepy...\")\n",
    "        time.sleep(120)\n",
    "\n",
    "for i in range(942,1039):\n",
    "    df = pd.read_excel(\"/Users/Tory/Documents/Documents - MacBook Pro (4)/Loldata.xlsx\")\n",
    "    t = eval(df['champs'][i])\n",
    "    team1 = t[0]\n",
    "    team2 = t[1]\n",
    "    t1wrs = []\n",
    "    t2wrs = []\n",
    "    for p in range(5):\n",
    "        champ,puuid,match = team1[p]\n",
    "        print(champ,match)\n",
    "        matchlist = watcher.match.matchlist_by_puuid('americas',puuid,count = 75)\n",
    "        incAPI(5)\n",
    "        examineGame = False\n",
    "        wrs = [0,0,0,0]\n",
    "        for j in range(len(matchlist)):\n",
    "            if matchlist[j] == match:\n",
    "                examineGame = True\n",
    "            if examineGame:\n",
    "                incAPI(1)\n",
    "                match_detail = watcher.match.by_id('americas', matchlist[j])\n",
    "                matchType = match_detail['info']['queueId']\n",
    "                if matchType == 420 or matchType == 4:\n",
    "                    for row in match_detail['info']['participants']:\n",
    "                        if row['puuid'] == puuid: #Player's perf in game\n",
    "                            if row['championName'] == champ:\n",
    "                                if row['win']:\n",
    "                                    wrs[0] = wrs[0] + 1\n",
    "                                else:\n",
    "                                    wrs[1] = wrs[1] + 1\n",
    "                            else:\n",
    "                                if row['win']:\n",
    "                                    wrs[2] = wrs[2] + 1\n",
    "                                else:\n",
    "                                    wrs[3] = wrs[3] + 1\n",
    "        t1wrs.append(wrs)\n",
    "        print(t1wrs)\n",
    "    for p in range(5):\n",
    "        champ,puuid,match = team2[p]\n",
    "        print(champ,match)\n",
    "        matchlist = watcher.match.matchlist_by_puuid('americas',puuid,count = 75)\n",
    "        incAPI(5)\n",
    "        examineGame = False\n",
    "        wrs = [0,0,0,0]\n",
    "        for j in range(len(matchlist)):\n",
    "            if matchlist[j] == match:\n",
    "                examineGame = True\n",
    "            if examineGame:\n",
    "                incAPI(1)\n",
    "                match_detail = watcher.match.by_id('americas', matchlist[j])\n",
    "                matchType = match_detail['info']['queueId']\n",
    "                if matchType == 420 or matchType == 4:\n",
    "                    for row in match_detail['info']['participants']:\n",
    "                        if row['puuid'] == puuid: #Player's perf in game\n",
    "                            if row['championName'] == champ:\n",
    "                                if row['win']:\n",
    "                                    wrs[0] = wrs[0] + 1\n",
    "                                else:\n",
    "                                    wrs[1] = wrs[1] + 1\n",
    "                            else:\n",
    "                                if row['win']:\n",
    "                                    wrs[2] = wrs[2] + 1\n",
    "                                else:\n",
    "                                    wrs[3] = wrs[3] + 1\n",
    "        t2wrs.append(wrs)\n",
    "    df = pd.read_excel(\"/Users/Tory/Documents/Documents - MacBook Pro (4)/Loldata.xlsx\")\n",
    "    df.at[i,'cwrs']=[t1wrs,t2wrs]\n",
    "    df.to_excel(\"/Users/Tory/Documents/Documents - MacBook Pro (4)/Loldata.xlsx\",index=False)\n",
    "    print(i)\n",
    "                            "
   ]
  },
  {
   "cell_type": "code",
   "execution_count": null,
   "metadata": {},
   "outputs": [],
   "source": [
    "df = pd.read_excel(\"/Users/Tory/Documents/Documents - MacBook Pro (4)/Loldata.xlsx\")\n",
    "team1 = df['champs'][1900]\n",
    "t = eval(team1)\n",
    "print(t[0][0])\n"
   ]
  },
  {
   "cell_type": "code",
   "execution_count": null,
   "metadata": {},
   "outputs": [],
   "source": [
    "matchID = watcher.match.matchlist_by_puuid('americas','u15T-7UxDWQI-vOj_9vCPdylRdQzTd-w88I1Ok_HENJd9XVzJbgODolE5f2El6xbfUbaNeGDernP3g',count = 100)                     "
   ]
  },
  {
   "cell_type": "code",
   "execution_count": null,
   "metadata": {},
   "outputs": [],
   "source": [
    "df.at[i,'cwrs']=[t1wrs,t2wrs]\n",
    "df.to_excel(\"/Users/Tory/Documents/Documents - MacBook Pro (4)/Loldata.xlsx\",index=False)"
   ]
  },
  {
   "cell_type": "code",
   "execution_count": null,
   "metadata": {},
   "outputs": [],
   "source": []
  }
 ],
 "metadata": {
  "kernelspec": {
   "display_name": "Python 3",
   "language": "python",
   "name": "python3"
  },
  "language_info": {
   "codemirror_mode": {
    "name": "ipython",
    "version": 3
   },
   "file_extension": ".py",
   "mimetype": "text/x-python",
   "name": "python",
   "nbconvert_exporter": "python",
   "pygments_lexer": "ipython3",
   "version": "3.7.4"
  }
 },
 "nbformat": 4,
 "nbformat_minor": 2
}
